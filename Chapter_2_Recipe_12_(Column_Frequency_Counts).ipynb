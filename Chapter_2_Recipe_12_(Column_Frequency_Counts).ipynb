{
  "nbformat": 4,
  "nbformat_minor": 0,
  "metadata": {
    "colab": {
      "provenance": [],
      "toc_visible": true,
      "authorship_tag": "ABX9TyPOTLhC5v1tRt/ONUrYJpzA",
      "include_colab_link": true
    },
    "kernelspec": {
      "name": "python3",
      "display_name": "Python 3"
    },
    "language_info": {
      "name": "python"
    }
  },
  "cells": [
    {
      "cell_type": "markdown",
      "metadata": {
        "id": "view-in-github",
        "colab_type": "text"
      },
      "source": [
        "<a href=\"https://colab.research.google.com/github/pratimdas/AzureTRE/blob/main/Chapter_2_Recipe_12_(Column_Frequency_Counts).ipynb\" target=\"_parent\"><img src=\"https://colab.research.google.com/assets/colab-badge.svg\" alt=\"Open In Colab\"/></a>"
      ]
    },
    {
      "cell_type": "code",
      "execution_count": null,
      "metadata": {
        "id": "Mu8tHPA4PW7f"
      },
      "outputs": [],
      "source": []
    },
    {
      "cell_type": "markdown",
      "source": [
        "# Column Frequency Counts\n",
        "\n",
        "Using the local copy of the Dirty Retail Store Sales dataset in /content/sample_data/retail_store_sales.csv\n",
        "\n",
        "**Purpose:** Profile the distribution of values in each column—spotting uncommon categories, typos, and guiding grouping or encoding decisions.\n",
        "\n",
        "**Step 1:** Import libraries and load the dataset"
      ],
      "metadata": {
        "id": "f1lZIYc0PmoQ"
      }
    },
    {
      "cell_type": "code",
      "source": [
        "# Step 1: Import libraries and load the dataset\n",
        "import pandas as pd\n",
        "import matplotlib.pyplot as plt\n",
        "from IPython.display import display\n",
        "\n",
        "# Load raw data (or use df_clean from Recipe 11 if available)\n",
        "filepath = '/content/sample_data/retail_store_sales.csv'\n",
        "try:\n",
        "    df = pd.read_csv(filepath, low_memory=False)\n",
        "    print(f\"✅ Loaded DataFrame from {filepath}: shape = {df.shape}\")\n",
        "except FileNotFoundError:\n",
        "    raise FileNotFoundError(f\"File not found: {filepath}\")\n",
        "\n",
        "# If you ran Recipe 11 and have df_clean, use it:\n",
        "df_freq = globals().get('df_clean', df)\n",
        "print(f\"🔍 Profiling value counts on DataFrame with shape: {df_freq.shape}\")\n"
      ],
      "metadata": {
        "colab": {
          "base_uri": "https://localhost:8080/"
        },
        "id": "acH8dubEQ79l",
        "outputId": "30e85703-c1b3-4e5a-c872-310c9a0cb38b"
      },
      "execution_count": null,
      "outputs": [
        {
          "output_type": "stream",
          "name": "stdout",
          "text": [
            "✅ Loaded DataFrame from /content/sample_data/retail_store_sales.csv: shape = (12575, 11)\n",
            "🔍 Profiling value counts on DataFrame with shape: (12575, 11)\n"
          ]
        }
      ]
    },
    {
      "cell_type": "markdown",
      "source": [
        "# Top N frequencies"
      ],
      "metadata": {
        "id": "ZvIm9FzmRZGG"
      }
    },
    {
      "cell_type": "code",
      "source": [
        "# Step 2: Define a helper function to show top N frequencies\n",
        "def show_value_counts(series, top_n=10, normalize=False):\n",
        "    \"\"\"\n",
        "    Display the top N value counts for a pandas Series.\n",
        "    - normalize=True shows proportions instead of raw counts.\n",
        "    \"\"\"\n",
        "    counts = series.value_counts(dropna=False, normalize=normalize)\n",
        "    display(counts.head(top_n))\n",
        "    return counts\n"
      ],
      "metadata": {
        "id": "_HFgp8s0RcYQ"
      },
      "execution_count": null,
      "outputs": []
    },
    {
      "cell_type": "markdown",
      "source": [
        "# Display frequencies"
      ],
      "metadata": {
        "id": "6ElY-MYGRnQs"
      }
    },
    {
      "cell_type": "code",
      "source": [
        "# Step 3: Loop through each column and display frequencies\n",
        "print(\"\\n\" + \"=\"*60)\n",
        "print(\"RECIPE 12: COLUMN FREQUENCY COUNTS\")\n",
        "print(\"=\"*60)\n",
        "\n",
        "for col in df_freq.columns:\n",
        "    print(f\"\\n🔸 Column: {col}\")\n",
        "    is_cat = df_freq[col].dtype == 'object' or pd.api.types.is_categorical_dtype(df_freq[col])\n",
        "    # For categorical columns, show percentages; otherwise raw counts\n",
        "    show_value_counts(df_freq[col], top_n=10, normalize=is_cat)\n"
      ],
      "metadata": {
        "colab": {
          "base_uri": "https://localhost:8080/",
          "height": 1000
        },
        "id": "lvcQT96HRzrv",
        "outputId": "3072b0a8-ae82-4830-82f1-6637d9f024c8"
      },
      "execution_count": null,
      "outputs": [
        {
          "output_type": "stream",
          "name": "stdout",
          "text": [
            "\n",
            "============================================================\n",
            "RECIPE 12: COLUMN FREQUENCY COUNTS\n",
            "============================================================\n",
            "\n",
            "🔸 Column: Transaction ID\n"
          ]
        },
        {
          "output_type": "display_data",
          "data": {
            "text/plain": [
              "Transaction ID\n",
              "TXN_2407494    0.00008\n",
              "TXN_6867343    0.00008\n",
              "TXN_3731986    0.00008\n",
              "TXN_9303719    0.00008\n",
              "TXN_9458126    0.00008\n",
              "TXN_4575373    0.00008\n",
              "TXN_7482416    0.00008\n",
              "TXN_3652209    0.00008\n",
              "TXN_1372952    0.00008\n",
              "TXN_9728486    0.00008\n",
              "Name: proportion, dtype: float64"
            ],
            "text/html": [
              "<div>\n",
              "<style scoped>\n",
              "    .dataframe tbody tr th:only-of-type {\n",
              "        vertical-align: middle;\n",
              "    }\n",
              "\n",
              "    .dataframe tbody tr th {\n",
              "        vertical-align: top;\n",
              "    }\n",
              "\n",
              "    .dataframe thead th {\n",
              "        text-align: right;\n",
              "    }\n",
              "</style>\n",
              "<table border=\"1\" class=\"dataframe\">\n",
              "  <thead>\n",
              "    <tr style=\"text-align: right;\">\n",
              "      <th></th>\n",
              "      <th>proportion</th>\n",
              "    </tr>\n",
              "    <tr>\n",
              "      <th>Transaction ID</th>\n",
              "      <th></th>\n",
              "    </tr>\n",
              "  </thead>\n",
              "  <tbody>\n",
              "    <tr>\n",
              "      <th>TXN_2407494</th>\n",
              "      <td>0.00008</td>\n",
              "    </tr>\n",
              "    <tr>\n",
              "      <th>TXN_6867343</th>\n",
              "      <td>0.00008</td>\n",
              "    </tr>\n",
              "    <tr>\n",
              "      <th>TXN_3731986</th>\n",
              "      <td>0.00008</td>\n",
              "    </tr>\n",
              "    <tr>\n",
              "      <th>TXN_9303719</th>\n",
              "      <td>0.00008</td>\n",
              "    </tr>\n",
              "    <tr>\n",
              "      <th>TXN_9458126</th>\n",
              "      <td>0.00008</td>\n",
              "    </tr>\n",
              "    <tr>\n",
              "      <th>TXN_4575373</th>\n",
              "      <td>0.00008</td>\n",
              "    </tr>\n",
              "    <tr>\n",
              "      <th>TXN_7482416</th>\n",
              "      <td>0.00008</td>\n",
              "    </tr>\n",
              "    <tr>\n",
              "      <th>TXN_3652209</th>\n",
              "      <td>0.00008</td>\n",
              "    </tr>\n",
              "    <tr>\n",
              "      <th>TXN_1372952</th>\n",
              "      <td>0.00008</td>\n",
              "    </tr>\n",
              "    <tr>\n",
              "      <th>TXN_9728486</th>\n",
              "      <td>0.00008</td>\n",
              "    </tr>\n",
              "  </tbody>\n",
              "</table>\n",
              "</div><br><label><b>dtype:</b> float64</label>"
            ]
          },
          "metadata": {}
        },
        {
          "output_type": "stream",
          "name": "stdout",
          "text": [
            "\n",
            "🔸 Column: Customer ID\n"
          ]
        },
        {
          "output_type": "display_data",
          "data": {
            "text/plain": [
              "Customer ID\n",
              "CUST_05    0.043260\n",
              "CUST_24    0.043181\n",
              "CUST_13    0.042465\n",
              "CUST_08    0.042386\n",
              "CUST_09    0.041272\n",
              "CUST_15    0.041272\n",
              "CUST_16    0.040954\n",
              "CUST_23    0.040795\n",
              "CUST_20    0.040318\n",
              "CUST_18    0.040318\n",
              "Name: proportion, dtype: float64"
            ],
            "text/html": [
              "<div>\n",
              "<style scoped>\n",
              "    .dataframe tbody tr th:only-of-type {\n",
              "        vertical-align: middle;\n",
              "    }\n",
              "\n",
              "    .dataframe tbody tr th {\n",
              "        vertical-align: top;\n",
              "    }\n",
              "\n",
              "    .dataframe thead th {\n",
              "        text-align: right;\n",
              "    }\n",
              "</style>\n",
              "<table border=\"1\" class=\"dataframe\">\n",
              "  <thead>\n",
              "    <tr style=\"text-align: right;\">\n",
              "      <th></th>\n",
              "      <th>proportion</th>\n",
              "    </tr>\n",
              "    <tr>\n",
              "      <th>Customer ID</th>\n",
              "      <th></th>\n",
              "    </tr>\n",
              "  </thead>\n",
              "  <tbody>\n",
              "    <tr>\n",
              "      <th>CUST_05</th>\n",
              "      <td>0.043260</td>\n",
              "    </tr>\n",
              "    <tr>\n",
              "      <th>CUST_24</th>\n",
              "      <td>0.043181</td>\n",
              "    </tr>\n",
              "    <tr>\n",
              "      <th>CUST_13</th>\n",
              "      <td>0.042465</td>\n",
              "    </tr>\n",
              "    <tr>\n",
              "      <th>CUST_08</th>\n",
              "      <td>0.042386</td>\n",
              "    </tr>\n",
              "    <tr>\n",
              "      <th>CUST_09</th>\n",
              "      <td>0.041272</td>\n",
              "    </tr>\n",
              "    <tr>\n",
              "      <th>CUST_15</th>\n",
              "      <td>0.041272</td>\n",
              "    </tr>\n",
              "    <tr>\n",
              "      <th>CUST_16</th>\n",
              "      <td>0.040954</td>\n",
              "    </tr>\n",
              "    <tr>\n",
              "      <th>CUST_23</th>\n",
              "      <td>0.040795</td>\n",
              "    </tr>\n",
              "    <tr>\n",
              "      <th>CUST_20</th>\n",
              "      <td>0.040318</td>\n",
              "    </tr>\n",
              "    <tr>\n",
              "      <th>CUST_18</th>\n",
              "      <td>0.040318</td>\n",
              "    </tr>\n",
              "  </tbody>\n",
              "</table>\n",
              "</div><br><label><b>dtype:</b> float64</label>"
            ]
          },
          "metadata": {}
        },
        {
          "output_type": "stream",
          "name": "stdout",
          "text": [
            "\n",
            "🔸 Column: Category\n"
          ]
        },
        {
          "output_type": "display_data",
          "data": {
            "text/plain": [
              "Category\n",
              "Electric household essentials         0.126521\n",
              "Furniture                             0.126521\n",
              "Food                                  0.126282\n",
              "Milk Products                         0.125964\n",
              "Butchers                              0.124692\n",
              "Beverages                             0.124612\n",
              "Computers and electric accessories    0.123897\n",
              "Patisserie                            0.121511\n",
              "Name: proportion, dtype: float64"
            ],
            "text/html": [
              "<div>\n",
              "<style scoped>\n",
              "    .dataframe tbody tr th:only-of-type {\n",
              "        vertical-align: middle;\n",
              "    }\n",
              "\n",
              "    .dataframe tbody tr th {\n",
              "        vertical-align: top;\n",
              "    }\n",
              "\n",
              "    .dataframe thead th {\n",
              "        text-align: right;\n",
              "    }\n",
              "</style>\n",
              "<table border=\"1\" class=\"dataframe\">\n",
              "  <thead>\n",
              "    <tr style=\"text-align: right;\">\n",
              "      <th></th>\n",
              "      <th>proportion</th>\n",
              "    </tr>\n",
              "    <tr>\n",
              "      <th>Category</th>\n",
              "      <th></th>\n",
              "    </tr>\n",
              "  </thead>\n",
              "  <tbody>\n",
              "    <tr>\n",
              "      <th>Electric household essentials</th>\n",
              "      <td>0.126521</td>\n",
              "    </tr>\n",
              "    <tr>\n",
              "      <th>Furniture</th>\n",
              "      <td>0.126521</td>\n",
              "    </tr>\n",
              "    <tr>\n",
              "      <th>Food</th>\n",
              "      <td>0.126282</td>\n",
              "    </tr>\n",
              "    <tr>\n",
              "      <th>Milk Products</th>\n",
              "      <td>0.125964</td>\n",
              "    </tr>\n",
              "    <tr>\n",
              "      <th>Butchers</th>\n",
              "      <td>0.124692</td>\n",
              "    </tr>\n",
              "    <tr>\n",
              "      <th>Beverages</th>\n",
              "      <td>0.124612</td>\n",
              "    </tr>\n",
              "    <tr>\n",
              "      <th>Computers and electric accessories</th>\n",
              "      <td>0.123897</td>\n",
              "    </tr>\n",
              "    <tr>\n",
              "      <th>Patisserie</th>\n",
              "      <td>0.121511</td>\n",
              "    </tr>\n",
              "  </tbody>\n",
              "</table>\n",
              "</div><br><label><b>dtype:</b> float64</label>"
            ]
          },
          "metadata": {}
        },
        {
          "output_type": "stream",
          "name": "stdout",
          "text": [
            "\n",
            "🔸 Column: Item\n"
          ]
        },
        {
          "output_type": "display_data",
          "data": {
            "text/plain": [
              "Item\n",
              "NaN             0.096461\n",
              "Item_2_BEV      0.010020\n",
              "Item_25_FUR     0.008986\n",
              "Item_11_FUR     0.008748\n",
              "Item_16_MILK    0.008668\n",
              "Item_1_MILK     0.008668\n",
              "Item_5_FUR      0.008509\n",
              "Item_20_BUT     0.008509\n",
              "Item_14_FOOD    0.008429\n",
              "Item_11_MILK    0.008429\n",
              "Name: proportion, dtype: float64"
            ],
            "text/html": [
              "<div>\n",
              "<style scoped>\n",
              "    .dataframe tbody tr th:only-of-type {\n",
              "        vertical-align: middle;\n",
              "    }\n",
              "\n",
              "    .dataframe tbody tr th {\n",
              "        vertical-align: top;\n",
              "    }\n",
              "\n",
              "    .dataframe thead th {\n",
              "        text-align: right;\n",
              "    }\n",
              "</style>\n",
              "<table border=\"1\" class=\"dataframe\">\n",
              "  <thead>\n",
              "    <tr style=\"text-align: right;\">\n",
              "      <th></th>\n",
              "      <th>proportion</th>\n",
              "    </tr>\n",
              "    <tr>\n",
              "      <th>Item</th>\n",
              "      <th></th>\n",
              "    </tr>\n",
              "  </thead>\n",
              "  <tbody>\n",
              "    <tr>\n",
              "      <th>NaN</th>\n",
              "      <td>0.096461</td>\n",
              "    </tr>\n",
              "    <tr>\n",
              "      <th>Item_2_BEV</th>\n",
              "      <td>0.010020</td>\n",
              "    </tr>\n",
              "    <tr>\n",
              "      <th>Item_25_FUR</th>\n",
              "      <td>0.008986</td>\n",
              "    </tr>\n",
              "    <tr>\n",
              "      <th>Item_11_FUR</th>\n",
              "      <td>0.008748</td>\n",
              "    </tr>\n",
              "    <tr>\n",
              "      <th>Item_16_MILK</th>\n",
              "      <td>0.008668</td>\n",
              "    </tr>\n",
              "    <tr>\n",
              "      <th>Item_1_MILK</th>\n",
              "      <td>0.008668</td>\n",
              "    </tr>\n",
              "    <tr>\n",
              "      <th>Item_5_FUR</th>\n",
              "      <td>0.008509</td>\n",
              "    </tr>\n",
              "    <tr>\n",
              "      <th>Item_20_BUT</th>\n",
              "      <td>0.008509</td>\n",
              "    </tr>\n",
              "    <tr>\n",
              "      <th>Item_14_FOOD</th>\n",
              "      <td>0.008429</td>\n",
              "    </tr>\n",
              "    <tr>\n",
              "      <th>Item_11_MILK</th>\n",
              "      <td>0.008429</td>\n",
              "    </tr>\n",
              "  </tbody>\n",
              "</table>\n",
              "</div><br><label><b>dtype:</b> float64</label>"
            ]
          },
          "metadata": {}
        },
        {
          "output_type": "stream",
          "name": "stdout",
          "text": [
            "\n",
            "🔸 Column: Price Per Unit\n"
          ]
        },
        {
          "output_type": "stream",
          "name": "stderr",
          "text": [
            "/tmp/ipython-input-4-2919041037.py:8: DeprecationWarning: is_categorical_dtype is deprecated and will be removed in a future version. Use isinstance(dtype, pd.CategoricalDtype) instead\n",
            "  is_cat = df_freq[col].dtype == 'object' or pd.api.types.is_categorical_dtype(df_freq[col])\n"
          ]
        },
        {
          "output_type": "display_data",
          "data": {
            "text/plain": [
              "Price Per Unit\n",
              "33.5    678\n",
              "20.0    634\n",
              "21.5    630\n",
              "NaN     609\n",
              "41.0    593\n",
              "29.0    554\n",
              "15.5    554\n",
              "38.0    542\n",
              "6.5     527\n",
              "12.5    522\n",
              "Name: count, dtype: int64"
            ],
            "text/html": [
              "<div>\n",
              "<style scoped>\n",
              "    .dataframe tbody tr th:only-of-type {\n",
              "        vertical-align: middle;\n",
              "    }\n",
              "\n",
              "    .dataframe tbody tr th {\n",
              "        vertical-align: top;\n",
              "    }\n",
              "\n",
              "    .dataframe thead th {\n",
              "        text-align: right;\n",
              "    }\n",
              "</style>\n",
              "<table border=\"1\" class=\"dataframe\">\n",
              "  <thead>\n",
              "    <tr style=\"text-align: right;\">\n",
              "      <th></th>\n",
              "      <th>count</th>\n",
              "    </tr>\n",
              "    <tr>\n",
              "      <th>Price Per Unit</th>\n",
              "      <th></th>\n",
              "    </tr>\n",
              "  </thead>\n",
              "  <tbody>\n",
              "    <tr>\n",
              "      <th>33.5</th>\n",
              "      <td>678</td>\n",
              "    </tr>\n",
              "    <tr>\n",
              "      <th>20.0</th>\n",
              "      <td>634</td>\n",
              "    </tr>\n",
              "    <tr>\n",
              "      <th>21.5</th>\n",
              "      <td>630</td>\n",
              "    </tr>\n",
              "    <tr>\n",
              "      <th>NaN</th>\n",
              "      <td>609</td>\n",
              "    </tr>\n",
              "    <tr>\n",
              "      <th>41.0</th>\n",
              "      <td>593</td>\n",
              "    </tr>\n",
              "    <tr>\n",
              "      <th>29.0</th>\n",
              "      <td>554</td>\n",
              "    </tr>\n",
              "    <tr>\n",
              "      <th>15.5</th>\n",
              "      <td>554</td>\n",
              "    </tr>\n",
              "    <tr>\n",
              "      <th>38.0</th>\n",
              "      <td>542</td>\n",
              "    </tr>\n",
              "    <tr>\n",
              "      <th>6.5</th>\n",
              "      <td>527</td>\n",
              "    </tr>\n",
              "    <tr>\n",
              "      <th>12.5</th>\n",
              "      <td>522</td>\n",
              "    </tr>\n",
              "  </tbody>\n",
              "</table>\n",
              "</div><br><label><b>dtype:</b> int64</label>"
            ]
          },
          "metadata": {}
        },
        {
          "output_type": "stream",
          "name": "stdout",
          "text": [
            "\n",
            "🔸 Column: Quantity\n"
          ]
        },
        {
          "output_type": "display_data",
          "data": {
            "text/plain": [
              "Quantity\n",
              "10.0    1232\n",
              "5.0     1228\n",
              "7.0     1227\n",
              "8.0     1226\n",
              "3.0     1224\n",
              "6.0     1220\n",
              "2.0     1164\n",
              "4.0     1155\n",
              "9.0     1148\n",
              "1.0     1147\n",
              "Name: count, dtype: int64"
            ],
            "text/html": [
              "<div>\n",
              "<style scoped>\n",
              "    .dataframe tbody tr th:only-of-type {\n",
              "        vertical-align: middle;\n",
              "    }\n",
              "\n",
              "    .dataframe tbody tr th {\n",
              "        vertical-align: top;\n",
              "    }\n",
              "\n",
              "    .dataframe thead th {\n",
              "        text-align: right;\n",
              "    }\n",
              "</style>\n",
              "<table border=\"1\" class=\"dataframe\">\n",
              "  <thead>\n",
              "    <tr style=\"text-align: right;\">\n",
              "      <th></th>\n",
              "      <th>count</th>\n",
              "    </tr>\n",
              "    <tr>\n",
              "      <th>Quantity</th>\n",
              "      <th></th>\n",
              "    </tr>\n",
              "  </thead>\n",
              "  <tbody>\n",
              "    <tr>\n",
              "      <th>10.0</th>\n",
              "      <td>1232</td>\n",
              "    </tr>\n",
              "    <tr>\n",
              "      <th>5.0</th>\n",
              "      <td>1228</td>\n",
              "    </tr>\n",
              "    <tr>\n",
              "      <th>7.0</th>\n",
              "      <td>1227</td>\n",
              "    </tr>\n",
              "    <tr>\n",
              "      <th>8.0</th>\n",
              "      <td>1226</td>\n",
              "    </tr>\n",
              "    <tr>\n",
              "      <th>3.0</th>\n",
              "      <td>1224</td>\n",
              "    </tr>\n",
              "    <tr>\n",
              "      <th>6.0</th>\n",
              "      <td>1220</td>\n",
              "    </tr>\n",
              "    <tr>\n",
              "      <th>2.0</th>\n",
              "      <td>1164</td>\n",
              "    </tr>\n",
              "    <tr>\n",
              "      <th>4.0</th>\n",
              "      <td>1155</td>\n",
              "    </tr>\n",
              "    <tr>\n",
              "      <th>9.0</th>\n",
              "      <td>1148</td>\n",
              "    </tr>\n",
              "    <tr>\n",
              "      <th>1.0</th>\n",
              "      <td>1147</td>\n",
              "    </tr>\n",
              "  </tbody>\n",
              "</table>\n",
              "</div><br><label><b>dtype:</b> int64</label>"
            ]
          },
          "metadata": {}
        },
        {
          "output_type": "stream",
          "name": "stdout",
          "text": [
            "\n",
            "🔸 Column: Total Spent\n"
          ]
        },
        {
          "output_type": "display_data",
          "data": {
            "text/plain": [
              "Total Spent\n",
              "NaN      604\n",
              "40.0     140\n",
              "80.0     124\n",
              "25.0     122\n",
              "140.0    118\n",
              "20.0     108\n",
              "55.0     107\n",
              "160.0    107\n",
              "100.0    102\n",
              "52.0     100\n",
              "Name: count, dtype: int64"
            ],
            "text/html": [
              "<div>\n",
              "<style scoped>\n",
              "    .dataframe tbody tr th:only-of-type {\n",
              "        vertical-align: middle;\n",
              "    }\n",
              "\n",
              "    .dataframe tbody tr th {\n",
              "        vertical-align: top;\n",
              "    }\n",
              "\n",
              "    .dataframe thead th {\n",
              "        text-align: right;\n",
              "    }\n",
              "</style>\n",
              "<table border=\"1\" class=\"dataframe\">\n",
              "  <thead>\n",
              "    <tr style=\"text-align: right;\">\n",
              "      <th></th>\n",
              "      <th>count</th>\n",
              "    </tr>\n",
              "    <tr>\n",
              "      <th>Total Spent</th>\n",
              "      <th></th>\n",
              "    </tr>\n",
              "  </thead>\n",
              "  <tbody>\n",
              "    <tr>\n",
              "      <th>NaN</th>\n",
              "      <td>604</td>\n",
              "    </tr>\n",
              "    <tr>\n",
              "      <th>40.0</th>\n",
              "      <td>140</td>\n",
              "    </tr>\n",
              "    <tr>\n",
              "      <th>80.0</th>\n",
              "      <td>124</td>\n",
              "    </tr>\n",
              "    <tr>\n",
              "      <th>25.0</th>\n",
              "      <td>122</td>\n",
              "    </tr>\n",
              "    <tr>\n",
              "      <th>140.0</th>\n",
              "      <td>118</td>\n",
              "    </tr>\n",
              "    <tr>\n",
              "      <th>20.0</th>\n",
              "      <td>108</td>\n",
              "    </tr>\n",
              "    <tr>\n",
              "      <th>55.0</th>\n",
              "      <td>107</td>\n",
              "    </tr>\n",
              "    <tr>\n",
              "      <th>160.0</th>\n",
              "      <td>107</td>\n",
              "    </tr>\n",
              "    <tr>\n",
              "      <th>100.0</th>\n",
              "      <td>102</td>\n",
              "    </tr>\n",
              "    <tr>\n",
              "      <th>52.0</th>\n",
              "      <td>100</td>\n",
              "    </tr>\n",
              "  </tbody>\n",
              "</table>\n",
              "</div><br><label><b>dtype:</b> int64</label>"
            ]
          },
          "metadata": {}
        },
        {
          "output_type": "stream",
          "name": "stdout",
          "text": [
            "\n",
            "🔸 Column: Payment Method\n"
          ]
        },
        {
          "output_type": "display_data",
          "data": {
            "text/plain": [
              "Payment Method\n",
              "Cash              0.342744\n",
              "Digital Wallet    0.329543\n",
              "Credit Card       0.327714\n",
              "Name: proportion, dtype: float64"
            ],
            "text/html": [
              "<div>\n",
              "<style scoped>\n",
              "    .dataframe tbody tr th:only-of-type {\n",
              "        vertical-align: middle;\n",
              "    }\n",
              "\n",
              "    .dataframe tbody tr th {\n",
              "        vertical-align: top;\n",
              "    }\n",
              "\n",
              "    .dataframe thead th {\n",
              "        text-align: right;\n",
              "    }\n",
              "</style>\n",
              "<table border=\"1\" class=\"dataframe\">\n",
              "  <thead>\n",
              "    <tr style=\"text-align: right;\">\n",
              "      <th></th>\n",
              "      <th>proportion</th>\n",
              "    </tr>\n",
              "    <tr>\n",
              "      <th>Payment Method</th>\n",
              "      <th></th>\n",
              "    </tr>\n",
              "  </thead>\n",
              "  <tbody>\n",
              "    <tr>\n",
              "      <th>Cash</th>\n",
              "      <td>0.342744</td>\n",
              "    </tr>\n",
              "    <tr>\n",
              "      <th>Digital Wallet</th>\n",
              "      <td>0.329543</td>\n",
              "    </tr>\n",
              "    <tr>\n",
              "      <th>Credit Card</th>\n",
              "      <td>0.327714</td>\n",
              "    </tr>\n",
              "  </tbody>\n",
              "</table>\n",
              "</div><br><label><b>dtype:</b> float64</label>"
            ]
          },
          "metadata": {}
        },
        {
          "output_type": "stream",
          "name": "stdout",
          "text": [
            "\n",
            "🔸 Column: Location\n"
          ]
        },
        {
          "output_type": "display_data",
          "data": {
            "text/plain": [
              "Location\n",
              "Online      0.505288\n",
              "In-store    0.494712\n",
              "Name: proportion, dtype: float64"
            ],
            "text/html": [
              "<div>\n",
              "<style scoped>\n",
              "    .dataframe tbody tr th:only-of-type {\n",
              "        vertical-align: middle;\n",
              "    }\n",
              "\n",
              "    .dataframe tbody tr th {\n",
              "        vertical-align: top;\n",
              "    }\n",
              "\n",
              "    .dataframe thead th {\n",
              "        text-align: right;\n",
              "    }\n",
              "</style>\n",
              "<table border=\"1\" class=\"dataframe\">\n",
              "  <thead>\n",
              "    <tr style=\"text-align: right;\">\n",
              "      <th></th>\n",
              "      <th>proportion</th>\n",
              "    </tr>\n",
              "    <tr>\n",
              "      <th>Location</th>\n",
              "      <th></th>\n",
              "    </tr>\n",
              "  </thead>\n",
              "  <tbody>\n",
              "    <tr>\n",
              "      <th>Online</th>\n",
              "      <td>0.505288</td>\n",
              "    </tr>\n",
              "    <tr>\n",
              "      <th>In-store</th>\n",
              "      <td>0.494712</td>\n",
              "    </tr>\n",
              "  </tbody>\n",
              "</table>\n",
              "</div><br><label><b>dtype:</b> float64</label>"
            ]
          },
          "metadata": {}
        },
        {
          "output_type": "stream",
          "name": "stdout",
          "text": [
            "\n",
            "🔸 Column: Transaction Date\n"
          ]
        },
        {
          "output_type": "display_data",
          "data": {
            "text/plain": [
              "Transaction Date\n",
              "2022-05-30    0.002068\n",
              "2023-07-17    0.001909\n",
              "2024-03-16    0.001750\n",
              "2023-06-12    0.001750\n",
              "2022-01-23    0.001670\n",
              "2022-04-14    0.001670\n",
              "2024-09-29    0.001670\n",
              "2023-06-14    0.001670\n",
              "2023-12-25    0.001670\n",
              "2023-06-10    0.001590\n",
              "Name: proportion, dtype: float64"
            ],
            "text/html": [
              "<div>\n",
              "<style scoped>\n",
              "    .dataframe tbody tr th:only-of-type {\n",
              "        vertical-align: middle;\n",
              "    }\n",
              "\n",
              "    .dataframe tbody tr th {\n",
              "        vertical-align: top;\n",
              "    }\n",
              "\n",
              "    .dataframe thead th {\n",
              "        text-align: right;\n",
              "    }\n",
              "</style>\n",
              "<table border=\"1\" class=\"dataframe\">\n",
              "  <thead>\n",
              "    <tr style=\"text-align: right;\">\n",
              "      <th></th>\n",
              "      <th>proportion</th>\n",
              "    </tr>\n",
              "    <tr>\n",
              "      <th>Transaction Date</th>\n",
              "      <th></th>\n",
              "    </tr>\n",
              "  </thead>\n",
              "  <tbody>\n",
              "    <tr>\n",
              "      <th>2022-05-30</th>\n",
              "      <td>0.002068</td>\n",
              "    </tr>\n",
              "    <tr>\n",
              "      <th>2023-07-17</th>\n",
              "      <td>0.001909</td>\n",
              "    </tr>\n",
              "    <tr>\n",
              "      <th>2024-03-16</th>\n",
              "      <td>0.001750</td>\n",
              "    </tr>\n",
              "    <tr>\n",
              "      <th>2023-06-12</th>\n",
              "      <td>0.001750</td>\n",
              "    </tr>\n",
              "    <tr>\n",
              "      <th>2022-01-23</th>\n",
              "      <td>0.001670</td>\n",
              "    </tr>\n",
              "    <tr>\n",
              "      <th>2022-04-14</th>\n",
              "      <td>0.001670</td>\n",
              "    </tr>\n",
              "    <tr>\n",
              "      <th>2024-09-29</th>\n",
              "      <td>0.001670</td>\n",
              "    </tr>\n",
              "    <tr>\n",
              "      <th>2023-06-14</th>\n",
              "      <td>0.001670</td>\n",
              "    </tr>\n",
              "    <tr>\n",
              "      <th>2023-12-25</th>\n",
              "      <td>0.001670</td>\n",
              "    </tr>\n",
              "    <tr>\n",
              "      <th>2023-06-10</th>\n",
              "      <td>0.001590</td>\n",
              "    </tr>\n",
              "  </tbody>\n",
              "</table>\n",
              "</div><br><label><b>dtype:</b> float64</label>"
            ]
          },
          "metadata": {}
        },
        {
          "output_type": "stream",
          "name": "stdout",
          "text": [
            "\n",
            "🔸 Column: Discount Applied\n"
          ]
        },
        {
          "output_type": "display_data",
          "data": {
            "text/plain": [
              "Discount Applied\n",
              "True     0.335507\n",
              "NaN      0.333917\n",
              "False    0.330577\n",
              "Name: proportion, dtype: float64"
            ],
            "text/html": [
              "<div>\n",
              "<style scoped>\n",
              "    .dataframe tbody tr th:only-of-type {\n",
              "        vertical-align: middle;\n",
              "    }\n",
              "\n",
              "    .dataframe tbody tr th {\n",
              "        vertical-align: top;\n",
              "    }\n",
              "\n",
              "    .dataframe thead th {\n",
              "        text-align: right;\n",
              "    }\n",
              "</style>\n",
              "<table border=\"1\" class=\"dataframe\">\n",
              "  <thead>\n",
              "    <tr style=\"text-align: right;\">\n",
              "      <th></th>\n",
              "      <th>proportion</th>\n",
              "    </tr>\n",
              "    <tr>\n",
              "      <th>Discount Applied</th>\n",
              "      <th></th>\n",
              "    </tr>\n",
              "  </thead>\n",
              "  <tbody>\n",
              "    <tr>\n",
              "      <th>True</th>\n",
              "      <td>0.335507</td>\n",
              "    </tr>\n",
              "    <tr>\n",
              "      <th>NaN</th>\n",
              "      <td>0.333917</td>\n",
              "    </tr>\n",
              "    <tr>\n",
              "      <th>False</th>\n",
              "      <td>0.330577</td>\n",
              "    </tr>\n",
              "  </tbody>\n",
              "</table>\n",
              "</div><br><label><b>dtype:</b> float64</label>"
            ]
          },
          "metadata": {}
        }
      ]
    },
    {
      "cell_type": "code",
      "source": [],
      "metadata": {
        "id": "WLKKHFkZTKSB"
      },
      "execution_count": null,
      "outputs": []
    },
    {
      "cell_type": "markdown",
      "source": [
        "# Visualize the top 5 categories"
      ],
      "metadata": {
        "id": "peDU8ijATRVB"
      }
    },
    {
      "cell_type": "code",
      "source": [
        "# Step 4 (Optional): Visualize the top 5 categories for a specific column\n",
        "col = 'Payment Method'  # adjust as needed\n",
        "top5 = df_freq[col].value_counts().nlargest(5)\n",
        "top5.plot.bar(figsize=(6,4))\n",
        "plt.title(f\"Top 5 values in '{col}'\")\n",
        "plt.ylabel(\"Count\")\n",
        "plt.xlabel(col)\n",
        "plt.show()\n"
      ],
      "metadata": {
        "colab": {
          "base_uri": "https://localhost:8080/",
          "height": 489
        },
        "id": "hhRYAPu2TTfJ",
        "outputId": "b09c0455-350d-4d9e-b255-a39e18897196"
      },
      "execution_count": null,
      "outputs": [
        {
          "output_type": "display_data",
          "data": {
            "text/plain": [
              "<Figure size 600x400 with 1 Axes>"
            ],
            "image/png": "[encoded data removed]"
          },
          "metadata": {}
        }
      ]
    },
    {
      "cell_type": "markdown",
      "source": [
        "# Recipe 13: Reading Mixed-Encoding CSVs\n",
        "\n",
        "**Purpose:**\n",
        "Robustly load CSV files when you don’t know their encoding or delimiter—detecting and handling BOMs, alternate encodings (UTF-16, Latin-1), and non-comma separators.\n",
        "\n",
        "**Prerequisites:**\n",
        "\n",
        "Colab notebook with /content/sample_data/retail_store_sales.csv present\n",
        "\n",
        "pandas and chardet installed"
      ],
      "metadata": {
        "id": "oKzA0oCvWQ33"
      }
    },
    {
      "cell_type": "code",
      "source": [
        "# Install chardet if needed\n",
        "!pip install --upgrade chardet pandas\n",
        "\n",
        "# Step 1: Detect file encoding\n",
        "\n",
        "import chardet\n",
        "\n",
        "filepath = '/content/sample_data/retail_store_sales.csv'\n",
        "\n",
        "# Read a sample of bytes to guess encoding\n",
        "with open(filepath, 'rb') as f:\n",
        "    raw = f.read(10_000)\n",
        "\n",
        "detected = chardet.detect(raw)\n",
        "encoding = detected['encoding']\n",
        "confidence = detected['confidence']\n",
        "\n",
        "print(f\"🔍 Detected encoding: {encoding} (confidence: {confidence:.2f})\")\n"
      ],
      "metadata": {
        "colab": {
          "base_uri": "https://localhost:8080/"
        },
        "id": "d9_xQzZAWY5-",
        "outputId": "d9fffe45-3e3d-455b-e534-1bb5199ec180"
      },
      "execution_count": null,
      "outputs": [
        {
          "output_type": "stream",
          "name": "stdout",
          "text": [
            "Requirement already satisfied: chardet in /usr/local/lib/python3.11/dist-packages (5.2.0)\n",
            "Requirement already satisfied: pandas in /usr/local/lib/python3.11/dist-packages (2.3.0)\n",
            "Requirement already satisfied: numpy>=1.23.2 in /usr/local/lib/python3.11/dist-packages (from pandas) (2.0.2)\n",
            "Requirement already satisfied: python-dateutil>=2.8.2 in /usr/local/lib/python3.11/dist-packages (from pandas) (2.9.0.post0)\n",
            "Requirement already satisfied: pytz>=2020.1 in /usr/local/lib/python3.11/dist-packages (from pandas) (2025.2)\n",
            "Requirement already satisfied: tzdata>=2022.7 in /usr/local/lib/python3.11/dist-packages (from pandas) (2025.2)\n",
            "Requirement already satisfied: six>=1.5 in /usr/local/lib/python3.11/dist-packages (from python-dateutil>=2.8.2->pandas) (1.17.0)\n",
            "🔍 Detected encoding: ascii (confidence: 1.00)\n"
          ]
        }
      ]
    },
    {
      "cell_type": "code",
      "source": [
        "# Step 2: Read CSV with detected encoding\n",
        "import pandas as pd\n",
        "\n",
        "# Use the detected encoding; fall back to 'utf-8' if detection failed\n",
        "enc = encoding if encoding else 'utf-8'\n",
        "\n",
        "# Try reading with the detected encoding\n",
        "df = pd.read_csv(filepath, encoding=enc, engine='python')\n",
        "print(f\"✅ Loaded DataFrame with encoding={enc}: shape = {df.shape}\")\n"
      ],
      "metadata": {
        "colab": {
          "base_uri": "https://localhost:8080/"
        },
        "id": "hPYxHsozXPwI",
        "outputId": "58b5d1ec-3727-44db-cf74-eebd866fc13e"
      },
      "execution_count": null,
      "outputs": [
        {
          "output_type": "stream",
          "name": "stdout",
          "text": [
            "✅ Loaded DataFrame with encoding=ascii: shape = (12575, 11)\n"
          ]
        }
      ]
    },
    {
      "cell_type": "code",
      "source": [
        "# Step 3: Handle alternate delimiters\n",
        "# Sometimes files use semicolons, tabs, or pipes. Let's auto-detect delimiters:\n",
        "# Read the first few lines and count delimiter occurrences.\n",
        "with open(filepath, 'r', encoding=enc) as f:\n",
        "    sample = \"\".join([next(f) for _ in range(5)])\n",
        "\n",
        "# Common candidates\n",
        "delims = [',', ';', '\\t', '|']\n",
        "scores = {d: sample.count(d) for d in delims}\n",
        "best_delim = max(scores, key=scores.get)\n",
        "print(f\"🔍 Detected delimiter: '{best_delim}' (counts: {scores})\")\n",
        "\n",
        "# Reload with correct delimiter\n",
        "df = pd.read_csv(filepath, encoding=enc, sep=best_delim, engine='python')\n",
        "print(f\"✅ Reloaded with sep='{best_delim}': shape = {df.shape}\")\n"
      ],
      "metadata": {
        "colab": {
          "base_uri": "https://localhost:8080/"
        },
        "id": "E_KmpCCPXlyy",
        "outputId": "72e4d2cd-625c-49e0-863a-6d5d137d6051"
      },
      "execution_count": null,
      "outputs": [
        {
          "output_type": "stream",
          "name": "stdout",
          "text": [
            "🔍 Detected delimiter: ',' (counts: {',': 50, ';': 0, '\\t': 0, '|': 0})\n",
            "✅ Reloaded with sep=',': shape = (12575, 11)\n"
          ]
        }
      ]
    },
    {
      "cell_type": "code",
      "source": [
        "# Step 4: Skip byte-order mark (BOM) if present\n",
        "\n",
        "# If the first column name starts with a BOM, strip it\n",
        "cols = df.columns.tolist()\n",
        "if cols and cols[0].startswith('\\ufeff'):\n",
        "    cleaned = [c.lstrip('\\ufeff') for c in cols]\n",
        "    df.columns = cleaned\n",
        "    print(\"✅ Stripped BOM from column names\")\n",
        "else:\n",
        "    print(\"ℹ️  No BOM found in column names\")\n"
      ],
      "metadata": {
        "colab": {
          "base_uri": "https://localhost:8080/"
        },
        "id": "1xD8PYLtX-Wp",
        "outputId": "e7a7c2f9-92df-43ef-b5ab-c58885d47049"
      },
      "execution_count": null,
      "outputs": [
        {
          "output_type": "stream",
          "name": "stdout",
          "text": [
            "ℹ️  No BOM found in column names\n"
          ]
        }
      ]
    },
    {
      "cell_type": "code",
      "source": [
        "# Step 5: Preview and verify\n",
        "\n",
        "# Quick sanity check\n",
        "print(\"\\nFirst 3 rows:\")\n",
        "print(df.head(3))\n",
        "\n",
        "print(\"\\nColumn dtypes:\")\n",
        "print(df.dtypes)\n"
      ],
      "metadata": {
        "colab": {
          "base_uri": "https://localhost:8080/"
        },
        "id": "ihBpfStXXnJL",
        "outputId": "11fa0df5-ef05-4773-ae49-7545e70a7599"
      },
      "execution_count": null,
      "outputs": [
        {
          "output_type": "stream",
          "name": "stdout",
          "text": [
            "\n",
            "First 3 rows:\n",
            "  Transaction ID Customer ID       Category          Item  Price Per Unit  \\\n",
            "0    TXN_6867343     CUST_09     Patisserie   Item_10_PAT            18.5   \n",
            "1    TXN_3731986     CUST_22  Milk Products  Item_17_MILK            29.0   \n",
            "2    TXN_9303719     CUST_02       Butchers   Item_12_BUT            21.5   \n",
            "\n",
            "   Quantity  Total Spent  Payment Method Location Transaction Date  \\\n",
            "0      10.0        185.0  Digital Wallet   Online       2024-04-08   \n",
            "1       9.0        261.0  Digital Wallet   Online       2023-07-23   \n",
            "2       2.0         43.0     Credit Card   Online       2022-10-05   \n",
            "\n",
            "  Discount Applied  \n",
            "0             True  \n",
            "1             True  \n",
            "2            False  \n",
            "\n",
            "Column dtypes:\n",
            "Transaction ID       object\n",
            "Customer ID          object\n",
            "Category             object\n",
            "Item                 object\n",
            "Price Per Unit      float64\n",
            "Quantity            float64\n",
            "Total Spent         float64\n",
            "Payment Method       object\n",
            "Location             object\n",
            "Transaction Date     object\n",
            "Discount Applied     object\n",
            "dtype: object\n"
          ]
        }
      ]
    }
  ]
}